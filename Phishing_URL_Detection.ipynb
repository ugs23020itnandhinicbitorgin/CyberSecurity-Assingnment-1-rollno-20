{
  "nbformat": 4,
  "nbformat_minor": 0,
  "metadata": {
    "colab": {
      "provenance": []
    },
    "kernelspec": {
      "name": "python3",
      "display_name": "Python 3"
    },
    "language_info": {
      "name": "python"
    }
  },
  "cells": [
    {
      "cell_type": "code",
      "source": [
        "# Stage 1: Install & import\n",
        "!pip install requests pandas -q\n",
        "import requests\n",
        "import pandas as pd\n"
      ],
      "metadata": {
        "id": "mcBExt9w8ZaH"
      },
      "execution_count": 8,
      "outputs": []
    },
    {
      "cell_type": "code",
      "source": [
        "# Stage 2: URLs to check\n",
        "urls_to_check = [\n",
        "    \"http://example.com\",\n",
        "    \"http://phishing-test-site.com\",\n",
        "    \"https://google.com\"\n",
        "]\n"
      ],
      "metadata": {
        "id": "MN8P7VTz8b0-"
      },
      "execution_count": 9,
      "outputs": []
    },
    {
      "cell_type": "code",
      "source": [
        "# Stage 3: API config (replace with real key to use PhishTank)\n",
        "API_KEY = \"\"  # put your PhishTank API key here; leave empty to use local simulated DB\n",
        "API_URL = \"https://checkurl.phishtank.com/checkurl/\"\n"
      ],
      "metadata": {
        "id": "wsmUcZMA8e1y"
      },
      "execution_count": 10,
      "outputs": []
    },
    {
      "cell_type": "code",
      "source": [
        "# Stage 4: Local fallback phishing DB (used when no API key)\n",
        "local_phish_db = {\n",
        "    \"http://phishing-test-site.com\",\n",
        "    \"http://test-phish.local/fake-login\",\n",
        "    \"http://malicious.example/phish\"\n",
        "}\n"
      ],
      "metadata": {
        "id": "ICTVB6cD8hkV"
      },
      "execution_count": 11,
      "outputs": []
    },
    {
      "cell_type": "code",
      "source": [
        "\n",
        "# Stage 5: Function to check a URL (uses PhishTank if API_KEY set, else local DB)\n",
        "def check_phish(url):\n",
        "    if API_KEY:\n",
        "        params = {\"url\": url, \"format\": \"json\", \"app_key\": API_KEY}\n",
        "        try:\n",
        "            resp = requests.post(API_URL, data=params, timeout=10)\n",
        "            data = resp.json()\n",
        "            if \"results\" in data:\n",
        "                is_phish = bool(data[\"results\"].get(\"in_database\", False))\n",
        "                verified = bool(data[\"results\"].get(\"verified\", False))\n",
        "                return is_phish, verified\n",
        "            else:\n",
        "                return False, False\n",
        "        except:\n",
        "            return False, False\n",
        "    else:\n",
        "        in_db = url in local_phish_db\n",
        "        verified = in_db\n",
        "        return in_db, verified\n"
      ],
      "metadata": {
        "id": "uUEulmrM8kJn"
      },
      "execution_count": 12,
      "outputs": []
    },
    {
      "cell_type": "code",
      "source": [
        "# Stage 6: Run checks and collect results\n",
        "results = []\n",
        "for url in urls_to_check:\n",
        "    phish, verified = check_phish(url)\n",
        "    results.append({\"URL\": url, \"Phishing\": phish, \"Verified\": verified})\n",
        "df_results = pd.DataFrame(results)\n"
      ],
      "metadata": {
        "id": "tGgjUx1w8upc"
      },
      "execution_count": 15,
      "outputs": []
    },
    {
      "cell_type": "code",
      "source": [
        "print(df_results)\n",
        "df_results.to_csv(\"phishing_url_results.csv\", index=False)"
      ],
      "metadata": {
        "colab": {
          "base_uri": "https://localhost:8080/"
        },
        "id": "U0pR536C81Gl",
        "outputId": "a3e5fcb6-9bcd-40dd-b983-0ce80a933b0e"
      },
      "execution_count": 16,
      "outputs": [
        {
          "output_type": "stream",
          "name": "stdout",
          "text": [
            "                             URL  Phishing  Verified\n",
            "0             http://example.com     False     False\n",
            "1  http://phishing-test-site.com      True      True\n",
            "2             https://google.com     False     False\n"
          ]
        }
      ]
    }
  ]
}